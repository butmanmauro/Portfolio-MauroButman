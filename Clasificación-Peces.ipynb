{
 "cells": [
  {
   "cell_type": "markdown",
   "metadata": {},
   "source": [
    "# Clasificación de peces\n",
    "\n",
    "El siguiente análisis modela una clasificación por clustering de una muestra de peces de diversas especies según sus dimensiones. El dataset utilizado se encuentra disponible en https://www.kaggle.com/aungpyaeap/fish-market?select=Fish.csv.\n",
    "\n",
    "### Carga de librerías"
   ]
  },
  {
   "cell_type": "code",
   "execution_count": 1,
   "metadata": {},
   "outputs": [],
   "source": [
    "import pandas as pd\n",
    "import numpy as np\n",
    "import matplotlib.pyplot as plt\n",
    "from sklearn import datasets\n",
    "from sklearn.cluster import AgglomerativeClustering, KMeans\n",
    "from scipy.cluster.hierarchy import dendrogram, linkage, cophenet, fcluster\n",
    "from scipy.spatial.distance import pdist"
   ]
  },
  {
   "cell_type": "markdown",
   "metadata": {},
   "source": [
    "### Carga de dataset"
   ]
  },
  {
   "cell_type": "code",
   "execution_count": 2,
   "metadata": {},
   "outputs": [
    {
     "data": {
      "text/html": [
       "<div>\n",
       "<style scoped>\n",
       "    .dataframe tbody tr th:only-of-type {\n",
       "        vertical-align: middle;\n",
       "    }\n",
       "\n",
       "    .dataframe tbody tr th {\n",
       "        vertical-align: top;\n",
       "    }\n",
       "\n",
       "    .dataframe thead th {\n",
       "        text-align: right;\n",
       "    }\n",
       "</style>\n",
       "<table border=\"1\" class=\"dataframe\">\n",
       "  <thead>\n",
       "    <tr style=\"text-align: right;\">\n",
       "      <th></th>\n",
       "      <th>Species</th>\n",
       "      <th>Weight</th>\n",
       "      <th>Length1</th>\n",
       "      <th>Length2</th>\n",
       "      <th>Length3</th>\n",
       "      <th>Height</th>\n",
       "      <th>Width</th>\n",
       "    </tr>\n",
       "  </thead>\n",
       "  <tbody>\n",
       "    <tr>\n",
       "      <th>0</th>\n",
       "      <td>Bream</td>\n",
       "      <td>242.0</td>\n",
       "      <td>23.2</td>\n",
       "      <td>25.4</td>\n",
       "      <td>30.0</td>\n",
       "      <td>11.5200</td>\n",
       "      <td>4.0200</td>\n",
       "    </tr>\n",
       "    <tr>\n",
       "      <th>1</th>\n",
       "      <td>Bream</td>\n",
       "      <td>290.0</td>\n",
       "      <td>24.0</td>\n",
       "      <td>26.3</td>\n",
       "      <td>31.2</td>\n",
       "      <td>12.4800</td>\n",
       "      <td>4.3056</td>\n",
       "    </tr>\n",
       "    <tr>\n",
       "      <th>2</th>\n",
       "      <td>Bream</td>\n",
       "      <td>340.0</td>\n",
       "      <td>23.9</td>\n",
       "      <td>26.5</td>\n",
       "      <td>31.1</td>\n",
       "      <td>12.3778</td>\n",
       "      <td>4.6961</td>\n",
       "    </tr>\n",
       "    <tr>\n",
       "      <th>3</th>\n",
       "      <td>Bream</td>\n",
       "      <td>363.0</td>\n",
       "      <td>26.3</td>\n",
       "      <td>29.0</td>\n",
       "      <td>33.5</td>\n",
       "      <td>12.7300</td>\n",
       "      <td>4.4555</td>\n",
       "    </tr>\n",
       "    <tr>\n",
       "      <th>4</th>\n",
       "      <td>Bream</td>\n",
       "      <td>430.0</td>\n",
       "      <td>26.5</td>\n",
       "      <td>29.0</td>\n",
       "      <td>34.0</td>\n",
       "      <td>12.4440</td>\n",
       "      <td>5.1340</td>\n",
       "    </tr>\n",
       "  </tbody>\n",
       "</table>\n",
       "</div>"
      ],
      "text/plain": [
       "  Species  Weight  Length1  Length2  Length3   Height   Width\n",
       "0   Bream   242.0     23.2     25.4     30.0  11.5200  4.0200\n",
       "1   Bream   290.0     24.0     26.3     31.2  12.4800  4.3056\n",
       "2   Bream   340.0     23.9     26.5     31.1  12.3778  4.6961\n",
       "3   Bream   363.0     26.3     29.0     33.5  12.7300  4.4555\n",
       "4   Bream   430.0     26.5     29.0     34.0  12.4440  5.1340"
      ]
     },
     "execution_count": 2,
     "metadata": {},
     "output_type": "execute_result"
    }
   ],
   "source": [
    "df = pd.read_csv(\"./Fish.csv\")\n",
    "df.head()"
   ]
  },
  {
   "cell_type": "code",
   "execution_count": 3,
   "metadata": {},
   "outputs": [
    {
     "data": {
      "text/plain": [
       "(159, 7)"
      ]
     },
     "execution_count": 3,
     "metadata": {},
     "output_type": "execute_result"
    }
   ],
   "source": [
    "df.shape"
   ]
  },
  {
   "cell_type": "code",
   "execution_count": 4,
   "metadata": {},
   "outputs": [],
   "source": [
    "target = \"Species\"\n",
    "categories = len(df[target].unique())"
   ]
  },
  {
   "cell_type": "code",
   "execution_count": 5,
   "metadata": {},
   "outputs": [
    {
     "data": {
      "text/plain": [
       "(array([35., 20.,  6., 11., 56., 17., 14.]),\n",
       " array([0., 1., 2., 3., 4., 5., 6., 7.]),\n",
       " <BarContainer object of 7 artists>)"
      ]
     },
     "execution_count": 5,
     "metadata": {},
     "output_type": "execute_result"
    },
    {
     "data": {
      "image/png": "[encoded data removed]",
      "text/plain": [
       "<Figure size 432x288 with 1 Axes>"
      ]
     },
     "metadata": {
      "needs_background": "light"
     },
     "output_type": "display_data"
    }
   ],
   "source": [
    "plt.hist(df[target], range=(0, categories), bins=categories, rwidth=0.5, align=\"left\")"
   ]
  },
  {
   "cell_type": "code",
   "execution_count": 6,
   "metadata": {},
   "outputs": [
    {
     "data": {
      "text/html": [
       "<div>\n",
       "<style scoped>\n",
       "    .dataframe tbody tr th:only-of-type {\n",
       "        vertical-align: middle;\n",
       "    }\n",
       "\n",
       "    .dataframe tbody tr th {\n",
       "        vertical-align: top;\n",
       "    }\n",
       "\n",
       "    .dataframe thead th {\n",
       "        text-align: right;\n",
       "    }\n",
       "</style>\n",
       "<table border=\"1\" class=\"dataframe\">\n",
       "  <thead>\n",
       "    <tr style=\"text-align: right;\">\n",
       "      <th></th>\n",
       "      <th>Weight</th>\n",
       "      <th>Length1</th>\n",
       "      <th>Length2</th>\n",
       "      <th>Length3</th>\n",
       "      <th>Height</th>\n",
       "      <th>Width</th>\n",
       "    </tr>\n",
       "    <tr>\n",
       "      <th>Species</th>\n",
       "      <th></th>\n",
       "      <th></th>\n",
       "      <th></th>\n",
       "      <th></th>\n",
       "      <th></th>\n",
       "      <th></th>\n",
       "    </tr>\n",
       "  </thead>\n",
       "  <tbody>\n",
       "    <tr>\n",
       "      <th>Bream</th>\n",
       "      <td>617.828571</td>\n",
       "      <td>30.305714</td>\n",
       "      <td>33.108571</td>\n",
       "      <td>38.354286</td>\n",
       "      <td>15.183211</td>\n",
       "      <td>5.427614</td>\n",
       "    </tr>\n",
       "    <tr>\n",
       "      <th>Parkki</th>\n",
       "      <td>154.818182</td>\n",
       "      <td>18.727273</td>\n",
       "      <td>20.345455</td>\n",
       "      <td>22.790909</td>\n",
       "      <td>8.962427</td>\n",
       "      <td>3.220736</td>\n",
       "    </tr>\n",
       "    <tr>\n",
       "      <th>Perch</th>\n",
       "      <td>382.239286</td>\n",
       "      <td>25.735714</td>\n",
       "      <td>27.892857</td>\n",
       "      <td>29.571429</td>\n",
       "      <td>7.861870</td>\n",
       "      <td>4.745723</td>\n",
       "    </tr>\n",
       "    <tr>\n",
       "      <th>Pike</th>\n",
       "      <td>718.705882</td>\n",
       "      <td>42.476471</td>\n",
       "      <td>45.482353</td>\n",
       "      <td>48.717647</td>\n",
       "      <td>7.713771</td>\n",
       "      <td>5.086382</td>\n",
       "    </tr>\n",
       "    <tr>\n",
       "      <th>Roach</th>\n",
       "      <td>152.050000</td>\n",
       "      <td>20.645000</td>\n",
       "      <td>22.275000</td>\n",
       "      <td>24.970000</td>\n",
       "      <td>6.694795</td>\n",
       "      <td>3.657850</td>\n",
       "    </tr>\n",
       "    <tr>\n",
       "      <th>Smelt</th>\n",
       "      <td>11.178571</td>\n",
       "      <td>11.257143</td>\n",
       "      <td>11.921429</td>\n",
       "      <td>13.035714</td>\n",
       "      <td>2.209371</td>\n",
       "      <td>1.340093</td>\n",
       "    </tr>\n",
       "    <tr>\n",
       "      <th>Whitefish</th>\n",
       "      <td>531.000000</td>\n",
       "      <td>28.800000</td>\n",
       "      <td>31.316667</td>\n",
       "      <td>34.316667</td>\n",
       "      <td>10.027167</td>\n",
       "      <td>5.473050</td>\n",
       "    </tr>\n",
       "  </tbody>\n",
       "</table>\n",
       "</div>"
      ],
      "text/plain": [
       "               Weight    Length1    Length2    Length3     Height     Width\n",
       "Species                                                                    \n",
       "Bream      617.828571  30.305714  33.108571  38.354286  15.183211  5.427614\n",
       "Parkki     154.818182  18.727273  20.345455  22.790909   8.962427  3.220736\n",
       "Perch      382.239286  25.735714  27.892857  29.571429   7.861870  4.745723\n",
       "Pike       718.705882  42.476471  45.482353  48.717647   7.713771  5.086382\n",
       "Roach      152.050000  20.645000  22.275000  24.970000   6.694795  3.657850\n",
       "Smelt       11.178571  11.257143  11.921429  13.035714   2.209371  1.340093\n",
       "Whitefish  531.000000  28.800000  31.316667  34.316667  10.027167  5.473050"
      ]
     },
     "execution_count": 6,
     "metadata": {},
     "output_type": "execute_result"
    }
   ],
   "source": [
    "df.groupby(target).mean()"
   ]
  },
  {
   "cell_type": "markdown",
   "metadata": {},
   "source": [
    "El dataset posee 159 muestras y 7 columnas. La variable objetivo presenta 7 categorías diferentes."
   ]
  },
  {
   "cell_type": "markdown",
   "metadata": {},
   "source": [
    "### Normalización de datos"
   ]
  },
  {
   "cell_type": "code",
   "execution_count": 7,
   "metadata": {},
   "outputs": [
    {
     "data": {
      "text/html": [
       "<div>\n",
       "<style scoped>\n",
       "    .dataframe tbody tr th:only-of-type {\n",
       "        vertical-align: middle;\n",
       "    }\n",
       "\n",
       "    .dataframe tbody tr th {\n",
       "        vertical-align: top;\n",
       "    }\n",
       "\n",
       "    .dataframe thead th {\n",
       "        text-align: right;\n",
       "    }\n",
       "</style>\n",
       "<table border=\"1\" class=\"dataframe\">\n",
       "  <thead>\n",
       "    <tr style=\"text-align: right;\">\n",
       "      <th></th>\n",
       "      <th>Species</th>\n",
       "      <th>Weight</th>\n",
       "      <th>Length1</th>\n",
       "      <th>Length2</th>\n",
       "      <th>Length3</th>\n",
       "      <th>Height</th>\n",
       "      <th>Width</th>\n",
       "    </tr>\n",
       "  </thead>\n",
       "  <tbody>\n",
       "    <tr>\n",
       "      <th>0</th>\n",
       "      <td>Bream</td>\n",
       "      <td>0.146667</td>\n",
       "      <td>0.304854</td>\n",
       "      <td>0.309091</td>\n",
       "      <td>0.358108</td>\n",
       "      <td>0.568334</td>\n",
       "      <td>0.418978</td>\n",
       "    </tr>\n",
       "    <tr>\n",
       "      <th>1</th>\n",
       "      <td>Bream</td>\n",
       "      <td>0.175758</td>\n",
       "      <td>0.320388</td>\n",
       "      <td>0.325455</td>\n",
       "      <td>0.378378</td>\n",
       "      <td>0.624055</td>\n",
       "      <td>0.459235</td>\n",
       "    </tr>\n",
       "    <tr>\n",
       "      <th>2</th>\n",
       "      <td>Bream</td>\n",
       "      <td>0.206061</td>\n",
       "      <td>0.318447</td>\n",
       "      <td>0.329091</td>\n",
       "      <td>0.376689</td>\n",
       "      <td>0.618123</td>\n",
       "      <td>0.514279</td>\n",
       "    </tr>\n",
       "    <tr>\n",
       "      <th>3</th>\n",
       "      <td>Bream</td>\n",
       "      <td>0.220000</td>\n",
       "      <td>0.365049</td>\n",
       "      <td>0.374545</td>\n",
       "      <td>0.417230</td>\n",
       "      <td>0.638566</td>\n",
       "      <td>0.480365</td>\n",
       "    </tr>\n",
       "    <tr>\n",
       "      <th>4</th>\n",
       "      <td>Bream</td>\n",
       "      <td>0.260606</td>\n",
       "      <td>0.368932</td>\n",
       "      <td>0.374545</td>\n",
       "      <td>0.425676</td>\n",
       "      <td>0.621966</td>\n",
       "      <td>0.576004</td>\n",
       "    </tr>\n",
       "  </tbody>\n",
       "</table>\n",
       "</div>"
      ],
      "text/plain": [
       "  Species    Weight   Length1   Length2   Length3    Height     Width\n",
       "0   Bream  0.146667  0.304854  0.309091  0.358108  0.568334  0.418978\n",
       "1   Bream  0.175758  0.320388  0.325455  0.378378  0.624055  0.459235\n",
       "2   Bream  0.206061  0.318447  0.329091  0.376689  0.618123  0.514279\n",
       "3   Bream  0.220000  0.365049  0.374545  0.417230  0.638566  0.480365\n",
       "4   Bream  0.260606  0.368932  0.374545  0.425676  0.621966  0.576004"
      ]
     },
     "execution_count": 7,
     "metadata": {},
     "output_type": "execute_result"
    }
   ],
   "source": [
    "num_vars = [x for x in df.columns.values if (x != target)]\n",
    "df_str = df[target]\n",
    "df_num = df[num_vars]\n",
    "df_num_norm = (df_num-df_num.min()) / (df_num.max()-df_num.min())\n",
    "df_norm = pd.concat([df_str, df_num_norm], axis = 1)\n",
    "df_norm.head()"
   ]
  },
  {
   "cell_type": "markdown",
   "metadata": {},
   "source": [
    "### Declaración de variables predictoras y target"
   ]
  },
  {
   "cell_type": "code",
   "execution_count": 8,
   "metadata": {},
   "outputs": [],
   "source": [
    "predictoras = [x for x in df.columns.values if x not in target]\n",
    "\n",
    "x = df_norm[predictoras]\n",
    "y = df_norm[target]"
   ]
  },
  {
   "cell_type": "markdown",
   "metadata": {},
   "source": [
    "### Modelado (3 métodos)"
   ]
  },
  {
   "cell_type": "code",
   "execution_count": 9,
   "metadata": {},
   "outputs": [
    {
     "name": "stdout",
     "output_type": "stream",
     "text": [
      "El coeficiente de correlación cofenético es del 76.95%\n"
     ]
    }
   ],
   "source": [
    "# SciPy\n",
    "\n",
    "# Métodos: single, complete, average, weighted, centroid, median, ward\n",
    "\n",
    "z = linkage(x, \"centroid\")\n",
    "\n",
    "c, coph_dist = cophenet(z, pdist(x))\n",
    "print(\"El coeficiente de correlación cofenético es del {c:.2f}%\".format(c=c*100))"
   ]
  },
  {
   "cell_type": "code",
   "execution_count": 10,
   "metadata": {},
   "outputs": [
    {
     "data": {
      "text/plain": [
       "<function matplotlib.pyplot.show(close=None, block=None)>"
      ]
     },
     "execution_count": 10,
     "metadata": {},
     "output_type": "execute_result"
    },
    {
     "data": {
      "image/png": "[encoded data removed]",
      "text/plain": [
       "<Figure size 432x288 with 1 Axes>"
      ]
     },
     "metadata": {
      "needs_background": "light"
     },
     "output_type": "display_data"
    }
   ],
   "source": [
    "# SKLearn - AgglomerativeClustering\n",
    "\n",
    "# Métodos: ward, complete, average, single\n",
    "\n",
    "clusters = AgglomerativeClustering(n_clusters=categories, linkage=\"ward\").fit(x)\n",
    "\n",
    "pred = AgglomerativeClustering(n_clusters=categories, linkage=\"ward\").fit_predict(x)\n",
    "\n",
    "\n",
    "HLabel = pd.Series(clusters.labels_)\n",
    "\n",
    "plt.hist(HLabel, range=(0, categories), bins=categories, rwidth=0.5, align=\"left\")\n",
    "plt.title(\"Histograma de clusters\")\n",
    "plt.xlabel(\"Cluster\")\n",
    "plt.ylabel(\"Cantidad de elementos\")\n",
    "plt.show"
   ]
  },
  {
   "cell_type": "code",
   "execution_count": 11,
   "metadata": {},
   "outputs": [
    {
     "name": "stdout",
     "output_type": "stream",
     "text": [
      "[4 4 4 0 0 0 0 0 0 0 0 0 0 0 0 0 0 0 0 0 0 0 0 0 0 0 0 0 2 2 2 2 2 2 2 5 1\n",
      " 1 1 1 1 1 1 1 1 1 1 1 4 1 4 4 4 4 4 4 4 4 0 2 2 1 1 1 1 1 1 1 1 4 4 4 5 5\n",
      " 5 1 1 1 1 1 1 1 1 1 1 1 1 1 1 1 1 1 1 1 1 1 1 1 4 1 4 4 4 4 4 4 4 4 4 0 0\n",
      " 2 2 2 2 2 2 2 2 2 2 2 2 2 2 2 2 2 4 3 3 3 3 3 3 3 3 3 3 3 6 6 6 6 6 5 5 5\n",
      " 5 5 5 5 5 5 5 5 5 5 5]\n"
     ]
    },
    {
     "data": {
      "text/plain": [
       "<function matplotlib.pyplot.show(close=None, block=None)>"
      ]
     },
     "execution_count": 11,
     "metadata": {},
     "output_type": "execute_result"
    },
    {
     "data": {
      "image/png": "[encoded data removed]",
      "text/plain": [
       "<Figure size 432x288 with 1 Axes>"
      ]
     },
     "metadata": {
      "needs_background": "light"
     },
     "output_type": "display_data"
    }
   ],
   "source": [
    "# SKLearn - K-Means\n",
    "\n",
    "model = KMeans(n_clusters=7)\n",
    "model.fit(x)\n",
    "KMLabel = pd.Series(model.labels_)\n",
    "\n",
    "pred = model.fit_predict(x)\n",
    "print(pred)\n",
    "\n",
    "plt.hist(KMLabel, range=(0, 7), bins=7, rwidth=0.5, align=\"left\")\n",
    "plt.title(\"Histograma de clusters\")\n",
    "plt.xlabel(\"Cluster\")\n",
    "plt.ylabel(\"Cantidad de elementos\")\n",
    "plt.show"
   ]
  },
  {
   "cell_type": "markdown",
   "metadata": {},
   "source": [
    "### Incorporación de predicciones a dataset"
   ]
  },
  {
   "cell_type": "code",
   "execution_count": 12,
   "metadata": {},
   "outputs": [
    {
     "data": {
      "text/html": [
       "<div>\n",
       "<style scoped>\n",
       "    .dataframe tbody tr th:only-of-type {\n",
       "        vertical-align: middle;\n",
       "    }\n",
       "\n",
       "    .dataframe tbody tr th {\n",
       "        vertical-align: top;\n",
       "    }\n",
       "\n",
       "    .dataframe thead th {\n",
       "        text-align: right;\n",
       "    }\n",
       "</style>\n",
       "<table border=\"1\" class=\"dataframe\">\n",
       "  <thead>\n",
       "    <tr style=\"text-align: right;\">\n",
       "      <th></th>\n",
       "      <th>Species</th>\n",
       "      <th>Weight</th>\n",
       "      <th>Length1</th>\n",
       "      <th>Length2</th>\n",
       "      <th>Length3</th>\n",
       "      <th>Height</th>\n",
       "      <th>Width</th>\n",
       "      <th>clust_h</th>\n",
       "      <th>clust_k</th>\n",
       "    </tr>\n",
       "  </thead>\n",
       "  <tbody>\n",
       "    <tr>\n",
       "      <th>0</th>\n",
       "      <td>Bream</td>\n",
       "      <td>0.146667</td>\n",
       "      <td>0.304854</td>\n",
       "      <td>0.309091</td>\n",
       "      <td>0.358108</td>\n",
       "      <td>0.568334</td>\n",
       "      <td>0.418978</td>\n",
       "      <td>6</td>\n",
       "      <td>2</td>\n",
       "    </tr>\n",
       "    <tr>\n",
       "      <th>1</th>\n",
       "      <td>Bream</td>\n",
       "      <td>0.175758</td>\n",
       "      <td>0.320388</td>\n",
       "      <td>0.325455</td>\n",
       "      <td>0.378378</td>\n",
       "      <td>0.624055</td>\n",
       "      <td>0.459235</td>\n",
       "      <td>6</td>\n",
       "      <td>2</td>\n",
       "    </tr>\n",
       "    <tr>\n",
       "      <th>2</th>\n",
       "      <td>Bream</td>\n",
       "      <td>0.206061</td>\n",
       "      <td>0.318447</td>\n",
       "      <td>0.329091</td>\n",
       "      <td>0.376689</td>\n",
       "      <td>0.618123</td>\n",
       "      <td>0.514279</td>\n",
       "      <td>6</td>\n",
       "      <td>2</td>\n",
       "    </tr>\n",
       "    <tr>\n",
       "      <th>3</th>\n",
       "      <td>Bream</td>\n",
       "      <td>0.220000</td>\n",
       "      <td>0.365049</td>\n",
       "      <td>0.374545</td>\n",
       "      <td>0.417230</td>\n",
       "      <td>0.638566</td>\n",
       "      <td>0.480365</td>\n",
       "      <td>6</td>\n",
       "      <td>1</td>\n",
       "    </tr>\n",
       "    <tr>\n",
       "      <th>4</th>\n",
       "      <td>Bream</td>\n",
       "      <td>0.260606</td>\n",
       "      <td>0.368932</td>\n",
       "      <td>0.374545</td>\n",
       "      <td>0.425676</td>\n",
       "      <td>0.621966</td>\n",
       "      <td>0.576004</td>\n",
       "      <td>6</td>\n",
       "      <td>1</td>\n",
       "    </tr>\n",
       "  </tbody>\n",
       "</table>\n",
       "</div>"
      ],
      "text/plain": [
       "  Species    Weight   Length1   Length2   Length3    Height     Width  \\\n",
       "0   Bream  0.146667  0.304854  0.309091  0.358108  0.568334  0.418978   \n",
       "1   Bream  0.175758  0.320388  0.325455  0.378378  0.624055  0.459235   \n",
       "2   Bream  0.206061  0.318447  0.329091  0.376689  0.618123  0.514279   \n",
       "3   Bream  0.220000  0.365049  0.374545  0.417230  0.638566  0.480365   \n",
       "4   Bream  0.260606  0.368932  0.374545  0.425676  0.621966  0.576004   \n",
       "\n",
       "   clust_h  clust_k  \n",
       "0        6        2  \n",
       "1        6        2  \n",
       "2        6        2  \n",
       "3        6        1  \n",
       "4        6        1  "
      ]
     },
     "execution_count": 12,
     "metadata": {},
     "output_type": "execute_result"
    }
   ],
   "source": [
    "df_pred = df_norm\n",
    "df_pred[\"clust_h\"] = HLabel\n",
    "df_pred[\"clust_k\"] = KMLabel\n",
    "df_pred.head()"
   ]
  },
  {
   "cell_type": "markdown",
   "metadata": {},
   "source": [
    "### Representación gráfica en dendrograma"
   ]
  },
  {
   "cell_type": "code",
   "execution_count": 13,
   "metadata": {},
   "outputs": [
    {
     "data": {
      "image/png": "[encoded data removed]",
      "text/plain": [
       "<Figure size 1800x720 with 1 Axes>"
      ]
     },
     "metadata": {
      "needs_background": "light"
     },
     "output_type": "display_data"
    }
   ],
   "source": [
    "max_dist = z[-1, 2]\n",
    "threshold = 0.4\n",
    "\n",
    "plt.figure(figsize = (25, 10))\n",
    "plt.title(\"Dendrograma del clústering jerárquico\")\n",
    "plt.xlabel(\"Índices de la Muestra\")\n",
    "plt.ylabel(\"Distancias\")\n",
    "dendrogram(z, leaf_rotation=0., leaf_font_size=8, color_threshold=(max_dist*threshold))\n",
    "plt.show()"
   ]
  },
  {
   "cell_type": "markdown",
   "metadata": {},
   "source": [
    "### Truncamiento del dendrograma"
   ]
  },
  {
   "cell_type": "code",
   "execution_count": 14,
   "metadata": {},
   "outputs": [
    {
     "data": {
      "image/png": "[encoded data removed]",
      "text/plain": [
       "<Figure size 1800x720 with 1 Axes>"
      ]
     },
     "metadata": {
      "needs_background": "light"
     },
     "output_type": "display_data"
    }
   ],
   "source": [
    "max_dist = z[-1, 2]\n",
    "threshold = 0.5\n",
    "p = 21\n",
    "\n",
    "plt.figure(figsize = (25, 10))\n",
    "plt.title(\"Dendrograma del clústering jerárquico truncado\")\n",
    "plt.xlabel(\"Índices de la Muestra\")\n",
    "plt.ylabel(\"Distancias\")\n",
    "dendrogram(z, leaf_rotation=0., leaf_font_size=14, color_threshold=(max_dist*threshold),\n",
    "           truncate_mode=\"lastp\", p=p)\n",
    "plt.show()"
   ]
  },
  {
   "cell_type": "markdown",
   "metadata": {},
   "source": [
    "### Método del codo"
   ]
  },
  {
   "cell_type": "code",
   "execution_count": 15,
   "metadata": {},
   "outputs": [
    {
     "name": "stdout",
     "output_type": "stream",
     "text": [
      "[1.26602907 0.79179524 0.51410178 0.4858192  0.47668042 0.39815891\n",
      " 0.39793071 0.29739728 0.29733545 0.28451844]\n",
      "El número óptimo de clusters según el métod0 del codo es de 3\n"
     ]
    },
    {
     "data": {
      "image/png": "[encoded data removed]",
      "text/plain": [
       "<Figure size 432x288 with 1 Axes>"
      ]
     },
     "metadata": {
      "needs_background": "light"
     },
     "output_type": "display_data"
    }
   ],
   "source": [
    "last = z[-10:,2]\n",
    "last_rev = last[::-1]\n",
    "idx = np.arange(1, len(last)+1)\n",
    "print(last_rev)\n",
    "\n",
    "plt.plot(idx, last_rev)\n",
    "\n",
    "acc = np.diff(last_rev, 2)\n",
    "k = acc.argmax() +2\n",
    "print(\"El número óptimo de clusters según el métod0 del codo es de %s\"%str(k))\n",
    "\n",
    "plt.plot(idx[:-2]+1, acc)\n",
    "plt.show()"
   ]
  },
  {
   "cell_type": "markdown",
   "metadata": {},
   "source": [
    "### Recuperación de clusters y de sus elementos"
   ]
  },
  {
   "cell_type": "code",
   "execution_count": 16,
   "metadata": {},
   "outputs": [
    {
     "data": {
      "text/plain": [
       "array([2, 2, 2, 2, 2, 2, 2, 2, 2, 2, 2, 2, 2, 2, 2, 2, 2, 2, 2, 2, 2, 2,\n",
       "       2, 2, 2, 2, 2, 2, 2, 2, 2, 2, 2, 2, 2, 3, 3, 3, 3, 3, 3, 3, 3, 3,\n",
       "       3, 3, 3, 3, 3, 3, 3, 3, 3, 3, 2, 3, 3, 3, 2, 2, 2, 3, 3, 3, 3, 3,\n",
       "       3, 3, 3, 3, 2, 2, 3, 3, 3, 3, 3, 3, 3, 3, 3, 3, 3, 3, 3, 3, 3, 3,\n",
       "       3, 3, 3, 3, 3, 3, 3, 3, 3, 3, 3, 3, 3, 3, 3, 3, 3, 3, 3, 3, 3, 2,\n",
       "       2, 2, 2, 2, 2, 2, 2, 2, 2, 2, 2, 2, 2, 2, 2, 2, 2, 2, 2, 2, 2, 2,\n",
       "       2, 2, 2, 2, 2, 2, 2, 2, 2, 1, 1, 1, 1, 3, 3, 3, 3, 3, 3, 3, 3, 3,\n",
       "       3, 3, 3, 3, 3], dtype=int32)"
      ]
     },
     "execution_count": 16,
     "metadata": {},
     "output_type": "execute_result"
    }
   ],
   "source": [
    "distancia_maxima = 0.7\n",
    "\n",
    "clusters = fcluster(z, distancia_maxima, criterion=\"distance\")\n",
    "clusters"
   ]
  },
  {
   "cell_type": "code",
   "execution_count": 17,
   "metadata": {},
   "outputs": [
    {
     "data": {
      "text/plain": [
       "array([2, 2, 2, 2, 2, 2, 2, 2, 2, 2, 2, 2, 2, 2, 2, 2, 2, 2, 2, 2, 2, 2,\n",
       "       2, 2, 2, 2, 2, 2, 2, 3, 3, 3, 3, 3, 3, 6, 7, 7, 7, 7, 7, 7, 7, 7,\n",
       "       7, 7, 7, 7, 7, 7, 7, 7, 7, 7, 2, 7, 7, 7, 2, 3, 3, 7, 7, 7, 7, 7,\n",
       "       7, 7, 7, 7, 2, 2, 6, 6, 6, 7, 7, 7, 7, 7, 7, 7, 7, 7, 7, 7, 7, 7,\n",
       "       7, 7, 7, 7, 7, 7, 7, 7, 7, 7, 7, 7, 7, 7, 7, 7, 7, 7, 7, 7, 7, 2,\n",
       "       2, 3, 3, 3, 3, 3, 3, 3, 3, 3, 3, 3, 3, 3, 3, 3, 3, 3, 5, 5, 5, 5,\n",
       "       5, 5, 5, 5, 5, 5, 5, 4, 4, 1, 1, 1, 1, 6, 6, 6, 6, 6, 6, 6, 6, 6,\n",
       "       6, 6, 6, 6, 6], dtype=int32)"
      ]
     },
     "execution_count": 17,
     "metadata": {},
     "output_type": "execute_result"
    }
   ],
   "source": [
    "clusters_maximos = 7\n",
    "\n",
    "clusters = fcluster(z, clusters_maximos, criterion=\"maxclust\")\n",
    "clusters"
   ]
  },
  {
   "cell_type": "markdown",
   "metadata": {},
   "source": [
    "## Interpretación final"
   ]
  },
  {
   "cell_type": "code",
   "execution_count": 18,
   "metadata": {},
   "outputs": [
    {
     "data": {
      "text/html": [
       "<div>\n",
       "<style scoped>\n",
       "    .dataframe tbody tr th:only-of-type {\n",
       "        vertical-align: middle;\n",
       "    }\n",
       "\n",
       "    .dataframe tbody tr th {\n",
       "        vertical-align: top;\n",
       "    }\n",
       "\n",
       "    .dataframe thead th {\n",
       "        text-align: right;\n",
       "    }\n",
       "</style>\n",
       "<table border=\"1\" class=\"dataframe\">\n",
       "  <thead>\n",
       "    <tr style=\"text-align: right;\">\n",
       "      <th></th>\n",
       "      <th>Weight</th>\n",
       "      <th>Length1</th>\n",
       "      <th>Length2</th>\n",
       "      <th>Length3</th>\n",
       "      <th>Height</th>\n",
       "      <th>Width</th>\n",
       "      <th>clust_h</th>\n",
       "    </tr>\n",
       "    <tr>\n",
       "      <th>clust_k</th>\n",
       "      <th></th>\n",
       "      <th></th>\n",
       "      <th></th>\n",
       "      <th></th>\n",
       "      <th></th>\n",
       "      <th></th>\n",
       "      <th></th>\n",
       "    </tr>\n",
       "  </thead>\n",
       "  <tbody>\n",
       "    <tr>\n",
       "      <th>0</th>\n",
       "      <td>0.009239</td>\n",
       "      <td>0.074757</td>\n",
       "      <td>0.067576</td>\n",
       "      <td>0.074887</td>\n",
       "      <td>0.043310</td>\n",
       "      <td>0.062739</td>\n",
       "      <td>3.000000</td>\n",
       "    </tr>\n",
       "    <tr>\n",
       "      <th>1</th>\n",
       "      <td>0.341710</td>\n",
       "      <td>0.431831</td>\n",
       "      <td>0.436494</td>\n",
       "      <td>0.481540</td>\n",
       "      <td>0.726967</td>\n",
       "      <td>0.610705</td>\n",
       "      <td>3.357143</td>\n",
       "    </tr>\n",
       "    <tr>\n",
       "      <th>2</th>\n",
       "      <td>0.157110</td>\n",
       "      <td>0.333757</td>\n",
       "      <td>0.333706</td>\n",
       "      <td>0.347128</td>\n",
       "      <td>0.395962</td>\n",
       "      <td>0.463021</td>\n",
       "      <td>3.923077</td>\n",
       "    </tr>\n",
       "    <tr>\n",
       "      <th>3</th>\n",
       "      <td>0.848485</td>\n",
       "      <td>0.907961</td>\n",
       "      <td>0.905818</td>\n",
       "      <td>0.901351</td>\n",
       "      <td>0.475750</td>\n",
       "      <td>0.780506</td>\n",
       "      <td>3.200000</td>\n",
       "    </tr>\n",
       "    <tr>\n",
       "      <th>4</th>\n",
       "      <td>0.276474</td>\n",
       "      <td>0.597176</td>\n",
       "      <td>0.590744</td>\n",
       "      <td>0.592445</td>\n",
       "      <td>0.300395</td>\n",
       "      <td>0.495207</td>\n",
       "      <td>2.272727</td>\n",
       "    </tr>\n",
       "    <tr>\n",
       "      <th>5</th>\n",
       "      <td>0.072316</td>\n",
       "      <td>0.223732</td>\n",
       "      <td>0.224727</td>\n",
       "      <td>0.233371</td>\n",
       "      <td>0.267529</td>\n",
       "      <td>0.322692</td>\n",
       "      <td>1.000000</td>\n",
       "    </tr>\n",
       "    <tr>\n",
       "      <th>6</th>\n",
       "      <td>0.539510</td>\n",
       "      <td>0.561090</td>\n",
       "      <td>0.561888</td>\n",
       "      <td>0.571271</td>\n",
       "      <td>0.680353</td>\n",
       "      <td>0.822596</td>\n",
       "      <td>0.538462</td>\n",
       "    </tr>\n",
       "  </tbody>\n",
       "</table>\n",
       "</div>"
      ],
      "text/plain": [
       "           Weight   Length1   Length2   Length3    Height     Width   clust_h\n",
       "clust_k                                                                      \n",
       "0        0.009239  0.074757  0.067576  0.074887  0.043310  0.062739  3.000000\n",
       "1        0.341710  0.431831  0.436494  0.481540  0.726967  0.610705  3.357143\n",
       "2        0.157110  0.333757  0.333706  0.347128  0.395962  0.463021  3.923077\n",
       "3        0.848485  0.907961  0.905818  0.901351  0.475750  0.780506  3.200000\n",
       "4        0.276474  0.597176  0.590744  0.592445  0.300395  0.495207  2.272727\n",
       "5        0.072316  0.223732  0.224727  0.233371  0.267529  0.322692  1.000000\n",
       "6        0.539510  0.561090  0.561888  0.571271  0.680353  0.822596  0.538462"
      ]
     },
     "execution_count": 18,
     "metadata": {},
     "output_type": "execute_result"
    }
   ],
   "source": [
    "df_pred.groupby(\"clust_k\").mean()"
   ]
  },
  {
   "cell_type": "code",
   "execution_count": 19,
   "metadata": {},
   "outputs": [
    {
     "data": {
      "text/html": [
       "<div>\n",
       "<style scoped>\n",
       "    .dataframe tbody tr th:only-of-type {\n",
       "        vertical-align: middle;\n",
       "    }\n",
       "\n",
       "    .dataframe tbody tr th {\n",
       "        vertical-align: top;\n",
       "    }\n",
       "\n",
       "    .dataframe thead th {\n",
       "        text-align: right;\n",
       "    }\n",
       "</style>\n",
       "<table border=\"1\" class=\"dataframe\">\n",
       "  <thead>\n",
       "    <tr style=\"text-align: right;\">\n",
       "      <th></th>\n",
       "      <th>Weight</th>\n",
       "      <th>Length1</th>\n",
       "      <th>Length2</th>\n",
       "      <th>Length3</th>\n",
       "      <th>Height</th>\n",
       "      <th>Width</th>\n",
       "      <th>clust_h</th>\n",
       "      <th>clust_k</th>\n",
       "    </tr>\n",
       "    <tr>\n",
       "      <th>Species</th>\n",
       "      <th></th>\n",
       "      <th></th>\n",
       "      <th></th>\n",
       "      <th></th>\n",
       "      <th></th>\n",
       "      <th></th>\n",
       "      <th></th>\n",
       "      <th></th>\n",
       "    </tr>\n",
       "  </thead>\n",
       "  <tbody>\n",
       "    <tr>\n",
       "      <th>Bream</th>\n",
       "      <td>0.374442</td>\n",
       "      <td>0.442829</td>\n",
       "      <td>0.449247</td>\n",
       "      <td>0.499228</td>\n",
       "      <td>0.780958</td>\n",
       "      <td>0.617390</td>\n",
       "      <td>3.600000</td>\n",
       "      <td>2.085714</td>\n",
       "    </tr>\n",
       "    <tr>\n",
       "      <th>Parkki</th>\n",
       "      <td>0.093829</td>\n",
       "      <td>0.218005</td>\n",
       "      <td>0.217190</td>\n",
       "      <td>0.236333</td>\n",
       "      <td>0.419885</td>\n",
       "      <td>0.306317</td>\n",
       "      <td>1.909091</td>\n",
       "      <td>4.181818</td>\n",
       "    </tr>\n",
       "    <tr>\n",
       "      <th>Perch</th>\n",
       "      <td>0.231660</td>\n",
       "      <td>0.354092</td>\n",
       "      <td>0.354416</td>\n",
       "      <td>0.350869</td>\n",
       "      <td>0.356005</td>\n",
       "      <td>0.521274</td>\n",
       "      <td>1.267857</td>\n",
       "      <td>4.357143</td>\n",
       "    </tr>\n",
       "    <tr>\n",
       "      <th>Pike</th>\n",
       "      <td>0.435579</td>\n",
       "      <td>0.679155</td>\n",
       "      <td>0.674225</td>\n",
       "      <td>0.674285</td>\n",
       "      <td>0.347409</td>\n",
       "      <td>0.569292</td>\n",
       "      <td>2.705882</td>\n",
       "      <td>3.588235</td>\n",
       "    </tr>\n",
       "    <tr>\n",
       "      <th>Roach</th>\n",
       "      <td>0.092152</td>\n",
       "      <td>0.255243</td>\n",
       "      <td>0.252273</td>\n",
       "      <td>0.273142</td>\n",
       "      <td>0.288265</td>\n",
       "      <td>0.367931</td>\n",
       "      <td>1.450000</td>\n",
       "      <td>3.850000</td>\n",
       "    </tr>\n",
       "    <tr>\n",
       "      <th>Smelt</th>\n",
       "      <td>0.006775</td>\n",
       "      <td>0.072954</td>\n",
       "      <td>0.064026</td>\n",
       "      <td>0.071549</td>\n",
       "      <td>0.027917</td>\n",
       "      <td>0.041229</td>\n",
       "      <td>3.000000</td>\n",
       "      <td>0.000000</td>\n",
       "    </tr>\n",
       "    <tr>\n",
       "      <th>Whitefish</th>\n",
       "      <td>0.321818</td>\n",
       "      <td>0.413592</td>\n",
       "      <td>0.416667</td>\n",
       "      <td>0.431025</td>\n",
       "      <td>0.481685</td>\n",
       "      <td>0.623795</td>\n",
       "      <td>2.500000</td>\n",
       "      <td>3.166667</td>\n",
       "    </tr>\n",
       "  </tbody>\n",
       "</table>\n",
       "</div>"
      ],
      "text/plain": [
       "             Weight   Length1   Length2   Length3    Height     Width  \\\n",
       "Species                                                                 \n",
       "Bream      0.374442  0.442829  0.449247  0.499228  0.780958  0.617390   \n",
       "Parkki     0.093829  0.218005  0.217190  0.236333  0.419885  0.306317   \n",
       "Perch      0.231660  0.354092  0.354416  0.350869  0.356005  0.521274   \n",
       "Pike       0.435579  0.679155  0.674225  0.674285  0.347409  0.569292   \n",
       "Roach      0.092152  0.255243  0.252273  0.273142  0.288265  0.367931   \n",
       "Smelt      0.006775  0.072954  0.064026  0.071549  0.027917  0.041229   \n",
       "Whitefish  0.321818  0.413592  0.416667  0.431025  0.481685  0.623795   \n",
       "\n",
       "            clust_h   clust_k  \n",
       "Species                        \n",
       "Bream      3.600000  2.085714  \n",
       "Parkki     1.909091  4.181818  \n",
       "Perch      1.267857  4.357143  \n",
       "Pike       2.705882  3.588235  \n",
       "Roach      1.450000  3.850000  \n",
       "Smelt      3.000000  0.000000  \n",
       "Whitefish  2.500000  3.166667  "
      ]
     },
     "execution_count": 19,
     "metadata": {},
     "output_type": "execute_result"
    }
   ],
   "source": [
    "df_norm.groupby(target).mean()"
   ]
  }
 ],
 "metadata": {
  "kernelspec": {
   "display_name": "Python 3",
   "language": "python",
   "name": "python3"
  },
  "language_info": {
   "codemirror_mode": {
    "name": "ipython",
    "version": 3
   },
   "file_extension": ".py",
   "mimetype": "text/x-python",
   "name": "python",
   "nbconvert_exporter": "python",
   "pygments_lexer": "ipython3",
   "version": "3.8.5"
  }
 },
 "nbformat": 4,
 "nbformat_minor": 4
}
