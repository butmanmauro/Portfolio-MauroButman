{
 "cells": [
  {
   "cell_type": "markdown",
   "metadata": {},
   "source": [
    "# Análisis preditivo de fallecimientos por COVID-19 en Argentina\n",
    "\n",
    "El siguiente análisis modela la relación entre las diversas variables de una muestra de casos positivos de COVID-19 en Argentina y aquellos que resultaron en fallecimientos, con el fin de predecir aquellos pacientes que presentan mayor riesgo en un futuro. El dataset utilizado se encuentra disponible en http://datos.salud.gob.ar/dataset/covid-19-casos-registrados-en-la-republica-argentina."
   ]
  },
  {
   "cell_type": "markdown",
   "metadata": {},
   "source": [
    "### Carga de librerías"
   ]
  },
  {
   "cell_type": "code",
   "execution_count": 1,
   "metadata": {},
   "outputs": [],
   "source": [
    "import pandas as pd\n",
    "import numpy as np\n",
    "from sklearn import linear_model\n",
    "from sklearn.model_selection import cross_val_score\n",
    "import random\n",
    "import matplotlib.pyplot as plt\n",
    "%matplotlib inline"
   ]
  },
  {
   "cell_type": "markdown",
   "metadata": {},
   "source": [
    "### Carga de dataset"
   ]
  },
  {
   "cell_type": "code",
   "execution_count": 2,
   "metadata": {},
   "outputs": [],
   "source": [
    "df = pd.read_csv(r\"./Covid19Casos.csv\", low_memory=False)"
   ]
  },
  {
   "cell_type": "markdown",
   "metadata": {},
   "source": [
    "### Análisis exploratorio"
   ]
  },
  {
   "cell_type": "code",
   "execution_count": 3,
   "metadata": {},
   "outputs": [
    {
     "data": {
      "text/html": [
       "<div>\n",
       "<style scoped>\n",
       "    .dataframe tbody tr th:only-of-type {\n",
       "        vertical-align: middle;\n",
       "    }\n",
       "\n",
       "    .dataframe tbody tr th {\n",
       "        vertical-align: top;\n",
       "    }\n",
       "\n",
       "    .dataframe thead th {\n",
       "        text-align: right;\n",
       "    }\n",
       "</style>\n",
       "<table border=\"1\" class=\"dataframe\">\n",
       "  <thead>\n",
       "    <tr style=\"text-align: right;\">\n",
       "      <th></th>\n",
       "      <th>id_evento_caso</th>\n",
       "      <th>sexo</th>\n",
       "      <th>edad</th>\n",
       "      <th>edad_años_meses</th>\n",
       "      <th>residencia_pais_nombre</th>\n",
       "      <th>residencia_provincia_nombre</th>\n",
       "      <th>residencia_departamento_nombre</th>\n",
       "      <th>carga_provincia_nombre</th>\n",
       "      <th>fecha_inicio_sintomas</th>\n",
       "      <th>fecha_apertura</th>\n",
       "      <th>...</th>\n",
       "      <th>fecha_fallecimiento</th>\n",
       "      <th>asistencia_respiratoria_mecanica</th>\n",
       "      <th>carga_provincia_id</th>\n",
       "      <th>origen_financiamiento</th>\n",
       "      <th>clasificacion</th>\n",
       "      <th>clasificacion_resumen</th>\n",
       "      <th>residencia_provincia_id</th>\n",
       "      <th>fecha_diagnostico</th>\n",
       "      <th>residencia_departamento_id</th>\n",
       "      <th>ultima_actualizacion</th>\n",
       "    </tr>\n",
       "  </thead>\n",
       "  <tbody>\n",
       "    <tr>\n",
       "      <th>0</th>\n",
       "      <td>1000000</td>\n",
       "      <td>M</td>\n",
       "      <td>54.0</td>\n",
       "      <td>Años</td>\n",
       "      <td>Argentina</td>\n",
       "      <td>CABA</td>\n",
       "      <td>SIN ESPECIFICAR</td>\n",
       "      <td>Buenos Aires</td>\n",
       "      <td>NaN</td>\n",
       "      <td>2020-06-01</td>\n",
       "      <td>...</td>\n",
       "      <td>NaN</td>\n",
       "      <td>NO</td>\n",
       "      <td>6</td>\n",
       "      <td>Privado</td>\n",
       "      <td>Caso Descartado</td>\n",
       "      <td>Descartado</td>\n",
       "      <td>2</td>\n",
       "      <td>2020-06-09</td>\n",
       "      <td>0</td>\n",
       "      <td>2021-04-17</td>\n",
       "    </tr>\n",
       "    <tr>\n",
       "      <th>1</th>\n",
       "      <td>10000000</td>\n",
       "      <td>F</td>\n",
       "      <td>52.0</td>\n",
       "      <td>Años</td>\n",
       "      <td>Argentina</td>\n",
       "      <td>CABA</td>\n",
       "      <td>SIN ESPECIFICAR</td>\n",
       "      <td>CABA</td>\n",
       "      <td>NaN</td>\n",
       "      <td>2021-04-08</td>\n",
       "      <td>...</td>\n",
       "      <td>NaN</td>\n",
       "      <td>NO</td>\n",
       "      <td>2</td>\n",
       "      <td>Público</td>\n",
       "      <td>Caso Descartado</td>\n",
       "      <td>Descartado</td>\n",
       "      <td>2</td>\n",
       "      <td>2021-04-08</td>\n",
       "      <td>0</td>\n",
       "      <td>2021-04-17</td>\n",
       "    </tr>\n",
       "    <tr>\n",
       "      <th>2</th>\n",
       "      <td>10000001</td>\n",
       "      <td>F</td>\n",
       "      <td>22.0</td>\n",
       "      <td>Años</td>\n",
       "      <td>Argentina</td>\n",
       "      <td>Buenos Aires</td>\n",
       "      <td>Lomas de Zamora</td>\n",
       "      <td>Buenos Aires</td>\n",
       "      <td>2021-04-05</td>\n",
       "      <td>2021-04-08</td>\n",
       "      <td>...</td>\n",
       "      <td>NaN</td>\n",
       "      <td>NO</td>\n",
       "      <td>6</td>\n",
       "      <td>Público</td>\n",
       "      <td>Caso Descartado</td>\n",
       "      <td>Descartado</td>\n",
       "      <td>6</td>\n",
       "      <td>2021-04-08</td>\n",
       "      <td>490</td>\n",
       "      <td>2021-04-17</td>\n",
       "    </tr>\n",
       "    <tr>\n",
       "      <th>3</th>\n",
       "      <td>10000002</td>\n",
       "      <td>F</td>\n",
       "      <td>43.0</td>\n",
       "      <td>Años</td>\n",
       "      <td>Argentina</td>\n",
       "      <td>Buenos Aires</td>\n",
       "      <td>La Matanza</td>\n",
       "      <td>CABA</td>\n",
       "      <td>NaN</td>\n",
       "      <td>2021-04-08</td>\n",
       "      <td>...</td>\n",
       "      <td>NaN</td>\n",
       "      <td>NO</td>\n",
       "      <td>2</td>\n",
       "      <td>Público</td>\n",
       "      <td>Caso Descartado</td>\n",
       "      <td>Descartado</td>\n",
       "      <td>6</td>\n",
       "      <td>2021-04-06</td>\n",
       "      <td>427</td>\n",
       "      <td>2021-04-17</td>\n",
       "    </tr>\n",
       "    <tr>\n",
       "      <th>4</th>\n",
       "      <td>10000003</td>\n",
       "      <td>F</td>\n",
       "      <td>33.0</td>\n",
       "      <td>Años</td>\n",
       "      <td>Argentina</td>\n",
       "      <td>CABA</td>\n",
       "      <td>COMUNA 01</td>\n",
       "      <td>CABA</td>\n",
       "      <td>NaN</td>\n",
       "      <td>2021-04-08</td>\n",
       "      <td>...</td>\n",
       "      <td>NaN</td>\n",
       "      <td>NO</td>\n",
       "      <td>2</td>\n",
       "      <td>Público</td>\n",
       "      <td>Caso Descartado</td>\n",
       "      <td>Descartado</td>\n",
       "      <td>2</td>\n",
       "      <td>2021-04-08</td>\n",
       "      <td>1</td>\n",
       "      <td>2021-04-17</td>\n",
       "    </tr>\n",
       "  </tbody>\n",
       "</table>\n",
       "<p>5 rows × 25 columns</p>\n",
       "</div>"
      ],
      "text/plain": [
       "   id_evento_caso sexo  edad edad_años_meses residencia_pais_nombre  \\\n",
       "0         1000000    M  54.0            Años              Argentina   \n",
       "1        10000000    F  52.0            Años              Argentina   \n",
       "2        10000001    F  22.0            Años              Argentina   \n",
       "3        10000002    F  43.0            Años              Argentina   \n",
       "4        10000003    F  33.0            Años              Argentina   \n",
       "\n",
       "  residencia_provincia_nombre residencia_departamento_nombre  \\\n",
       "0                        CABA                SIN ESPECIFICAR   \n",
       "1                        CABA                SIN ESPECIFICAR   \n",
       "2                Buenos Aires                Lomas de Zamora   \n",
       "3                Buenos Aires                     La Matanza   \n",
       "4                        CABA                      COMUNA 01   \n",
       "\n",
       "  carga_provincia_nombre fecha_inicio_sintomas fecha_apertura  ...  \\\n",
       "0           Buenos Aires                   NaN     2020-06-01  ...   \n",
       "1                   CABA                   NaN     2021-04-08  ...   \n",
       "2           Buenos Aires            2021-04-05     2021-04-08  ...   \n",
       "3                   CABA                   NaN     2021-04-08  ...   \n",
       "4                   CABA                   NaN     2021-04-08  ...   \n",
       "\n",
       "   fecha_fallecimiento asistencia_respiratoria_mecanica carga_provincia_id  \\\n",
       "0                  NaN                               NO                  6   \n",
       "1                  NaN                               NO                  2   \n",
       "2                  NaN                               NO                  6   \n",
       "3                  NaN                               NO                  2   \n",
       "4                  NaN                               NO                  2   \n",
       "\n",
       "  origen_financiamiento    clasificacion clasificacion_resumen  \\\n",
       "0               Privado  Caso Descartado            Descartado   \n",
       "1               Público  Caso Descartado            Descartado   \n",
       "2               Público  Caso Descartado            Descartado   \n",
       "3               Público  Caso Descartado            Descartado   \n",
       "4               Público  Caso Descartado            Descartado   \n",
       "\n",
       "  residencia_provincia_id  fecha_diagnostico residencia_departamento_id  \\\n",
       "0                       2         2020-06-09                          0   \n",
       "1                       2         2021-04-08                          0   \n",
       "2                       6         2021-04-08                        490   \n",
       "3                       6         2021-04-06                        427   \n",
       "4                       2         2021-04-08                          1   \n",
       "\n",
       "  ultima_actualizacion  \n",
       "0           2021-04-17  \n",
       "1           2021-04-17  \n",
       "2           2021-04-17  \n",
       "3           2021-04-17  \n",
       "4           2021-04-17  \n",
       "\n",
       "[5 rows x 25 columns]"
      ]
     },
     "execution_count": 3,
     "metadata": {},
     "output_type": "execute_result"
    }
   ],
   "source": [
    "df.head()"
   ]
  },
  {
   "cell_type": "code",
   "execution_count": 4,
   "metadata": {},
   "outputs": [
    {
     "data": {
      "text/plain": [
       "(9092902, 25)"
      ]
     },
     "execution_count": 4,
     "metadata": {},
     "output_type": "execute_result"
    }
   ],
   "source": [
    "df.shape"
   ]
  },
  {
   "cell_type": "code",
   "execution_count": 5,
   "metadata": {},
   "outputs": [
    {
     "data": {
      "text/plain": [
       "array(['id_evento_caso', 'sexo', 'edad', 'edad_años_meses',\n",
       "       'residencia_pais_nombre', 'residencia_provincia_nombre',\n",
       "       'residencia_departamento_nombre', 'carga_provincia_nombre',\n",
       "       'fecha_inicio_sintomas', 'fecha_apertura', 'sepi_apertura',\n",
       "       'fecha_internacion', 'cuidado_intensivo', 'fecha_cui_intensivo',\n",
       "       'fallecido', 'fecha_fallecimiento',\n",
       "       'asistencia_respiratoria_mecanica', 'carga_provincia_id',\n",
       "       'origen_financiamiento', 'clasificacion', 'clasificacion_resumen',\n",
       "       'residencia_provincia_id', 'fecha_diagnostico',\n",
       "       'residencia_departamento_id', 'ultima_actualizacion'], dtype=object)"
      ]
     },
     "execution_count": 5,
     "metadata": {},
     "output_type": "execute_result"
    }
   ],
   "source": [
    "df.columns.values"
   ]
  },
  {
   "cell_type": "markdown",
   "metadata": {},
   "source": [
    "**Análisis de variables:**\n",
    "* Variables de eliminación directa (irrelevantes para el modelado):\n",
    "    * \"id_evento_caso\"\n",
    "    * \"residencia_provincia_nombre\"\n",
    "    * \"residencia_departamento_nombre\"\n",
    "    * \"carga_provincia_nombre\"\n",
    "    * \"fecha_apertura\"\n",
    "    * \"sepi_apertura\"\n",
    "    * \"carga_provincia_id\"\n",
    "    * \"origen_financiamiento\"\n",
    "    * \"clasificacion\"\n",
    "    * \"residencia_provincia_id\"\n",
    "    * \"residencia_departamento_id\"\n",
    "    * \"ultima_actualizacion\"\n",
    "    * \"fecha_inicio_sintomas\"\n",
    "    * \"fecha_diagnostico\"\n",
    "    * \"fecha_internacion\"\n",
    "    * \"fecha_cui_intensivo\"\n",
    "    * \"fecha_fallecimiento\"\n",
    "* Variables de eliminación tras procesado:\n",
    "    * \"edad_años_meses\" : se convertirán todas las muestras a \"años\"\n",
    "    * \"residencia_pais_nombre\" : se eliminarán todas las muestras que no residan en \"Argentina\"\n",
    "    * \"clasificacion_resumen\" : se eliminarán todas las muestras que no sean casos de Covid-19 \"confirmados\"\n",
    "* Variables predictoras iniciales:\n",
    "    * \"sexo\"\n",
    "    * \"edad\"\n",
    "    * \"cuidado_intensivo\"\n",
    "    * \"asistencia_respiratoria_mecanica\"\n",
    "* Variable target:\n",
    "    * \"fallecido\""
   ]
  },
  {
   "cell_type": "markdown",
   "metadata": {},
   "source": [
    "### Limpieza del dataset\n",
    "**Eliminación de variables irrelevantes para el modelado**"
   ]
  },
  {
   "cell_type": "code",
   "execution_count": 6,
   "metadata": {},
   "outputs": [],
   "source": [
    "elim_direct = [\"id_evento_caso\", \"residencia_provincia_nombre\", \"residencia_departamento_nombre\", \"carga_provincia_nombre\", \n",
    "               \"fecha_apertura\", \"sepi_apertura\", \"carga_provincia_id\", \"origen_financiamiento\", \"clasificacion\", \n",
    "               \"residencia_provincia_id\", \"residencia_departamento_id\", \"ultima_actualizacion\", \"fecha_inicio_sintomas\",\n",
    "               \"fecha_diagnostico\", \"fecha_internacion\", \"fecha_cui_intensivo\", \"fecha_fallecimiento\"]\n",
    "\n",
    "df1 = df.drop(elim_direct, axis = 1)"
   ]
  },
  {
   "cell_type": "markdown",
   "metadata": {},
   "source": [
    "**Eliminación de muestras que no residan en Argentina**"
   ]
  },
  {
   "cell_type": "code",
   "execution_count": 7,
   "metadata": {},
   "outputs": [
    {
     "name": "stdout",
     "output_type": "stream",
     "text": [
      "['Argentina']\n"
     ]
    }
   ],
   "source": [
    "df2 = df1[df1[\"residencia_pais_nombre\"] == \"Argentina\"]\n",
    "\n",
    "print (df2.residencia_pais_nombre.unique())\n",
    "\n",
    "df2 = df2.drop(\"residencia_pais_nombre\", axis = 1)"
   ]
  },
  {
   "cell_type": "markdown",
   "metadata": {},
   "source": [
    "**Eliminación de muestras que no sean casos de COVID-19 confirmados**"
   ]
  },
  {
   "cell_type": "code",
   "execution_count": 8,
   "metadata": {},
   "outputs": [
    {
     "name": "stdout",
     "output_type": "stream",
     "text": [
      "['Confirmado']\n"
     ]
    }
   ],
   "source": [
    "df3 = df2[df2[\"clasificacion_resumen\"] == \"Confirmado\"]\n",
    "\n",
    "print (df3.clasificacion_resumen.unique())\n",
    "\n",
    "df3 = df3.drop(\"clasificacion_resumen\", axis = 1)"
   ]
  },
  {
   "cell_type": "markdown",
   "metadata": {},
   "source": [
    "**Conversión de edades expresadas en meses a años**"
   ]
  },
  {
   "cell_type": "code",
   "execution_count": 9,
   "metadata": {},
   "outputs": [
    {
     "data": {
      "text/plain": [
       "(array([10.,  1.,  6.,  2.,  9., 11.,  3.,  7.,  4.,  5.,  8.,  0.]),\n",
       " (3641, 6))"
      ]
     },
     "execution_count": 9,
     "metadata": {},
     "output_type": "execute_result"
    }
   ],
   "source": [
    "df_meses = df3[df3[\"edad_años_meses\"] == \"Meses\"]\n",
    "\n",
    "df_meses.edad.unique(), df_meses.shape"
   ]
  },
  {
   "cell_type": "markdown",
   "metadata": {},
   "source": [
    "*Todas las muestras cuyas edades están expresadas en meses son menores al año de vida. Se reemplazarán como \"0\" años*"
   ]
  },
  {
   "cell_type": "code",
   "execution_count": 10,
   "metadata": {},
   "outputs": [
    {
     "data": {
      "text/plain": [
       "array(['sexo', 'edad', 'edad_años_meses', 'cuidado_intensivo',\n",
       "       'fallecido', 'asistencia_respiratoria_mecanica'], dtype=object)"
      ]
     },
     "execution_count": 10,
     "metadata": {},
     "output_type": "execute_result"
    }
   ],
   "source": [
    "df3.columns.values"
   ]
  },
  {
   "cell_type": "code",
   "execution_count": 11,
   "metadata": {},
   "outputs": [],
   "source": [
    "df4 = df3\n",
    "\n",
    "for i in range(len(df4)):\n",
    "    if df4.iloc[i, 2] == \"Meses\":\n",
    "        df4.iloc[i, 1] = 0"
   ]
  },
  {
   "cell_type": "code",
   "execution_count": 12,
   "metadata": {},
   "outputs": [
    {
     "data": {
      "text/plain": [
       "(array([0.]), (3641, 6))"
      ]
     },
     "execution_count": 12,
     "metadata": {},
     "output_type": "execute_result"
    }
   ],
   "source": [
    "df_meses = df4[df4[\"edad_años_meses\"] == \"Meses\"]\n",
    "\n",
    "df_meses.edad.unique(), df_meses.shape"
   ]
  },
  {
   "cell_type": "code",
   "execution_count": 13,
   "metadata": {},
   "outputs": [
    {
     "data": {
      "text/html": [
       "<div>\n",
       "<style scoped>\n",
       "    .dataframe tbody tr th:only-of-type {\n",
       "        vertical-align: middle;\n",
       "    }\n",
       "\n",
       "    .dataframe tbody tr th {\n",
       "        vertical-align: top;\n",
       "    }\n",
       "\n",
       "    .dataframe thead th {\n",
       "        text-align: right;\n",
       "    }\n",
       "</style>\n",
       "<table border=\"1\" class=\"dataframe\">\n",
       "  <thead>\n",
       "    <tr style=\"text-align: right;\">\n",
       "      <th></th>\n",
       "      <th>sexo</th>\n",
       "      <th>edad</th>\n",
       "      <th>cuidado_intensivo</th>\n",
       "      <th>fallecido</th>\n",
       "      <th>asistencia_respiratoria_mecanica</th>\n",
       "    </tr>\n",
       "  </thead>\n",
       "  <tbody>\n",
       "    <tr>\n",
       "      <th>16</th>\n",
       "      <td>F</td>\n",
       "      <td>48.0</td>\n",
       "      <td>NO</td>\n",
       "      <td>NO</td>\n",
       "      <td>NO</td>\n",
       "    </tr>\n",
       "    <tr>\n",
       "      <th>27</th>\n",
       "      <td>F</td>\n",
       "      <td>23.0</td>\n",
       "      <td>NO</td>\n",
       "      <td>NO</td>\n",
       "      <td>NO</td>\n",
       "    </tr>\n",
       "    <tr>\n",
       "      <th>51</th>\n",
       "      <td>F</td>\n",
       "      <td>73.0</td>\n",
       "      <td>NO</td>\n",
       "      <td>NO</td>\n",
       "      <td>NO</td>\n",
       "    </tr>\n",
       "    <tr>\n",
       "      <th>58</th>\n",
       "      <td>F</td>\n",
       "      <td>41.0</td>\n",
       "      <td>NO</td>\n",
       "      <td>NO</td>\n",
       "      <td>NO</td>\n",
       "    </tr>\n",
       "    <tr>\n",
       "      <th>60</th>\n",
       "      <td>M</td>\n",
       "      <td>35.0</td>\n",
       "      <td>NO</td>\n",
       "      <td>NO</td>\n",
       "      <td>NO</td>\n",
       "    </tr>\n",
       "  </tbody>\n",
       "</table>\n",
       "</div>"
      ],
      "text/plain": [
       "   sexo  edad cuidado_intensivo fallecido asistencia_respiratoria_mecanica\n",
       "16    F  48.0                NO        NO                               NO\n",
       "27    F  23.0                NO        NO                               NO\n",
       "51    F  73.0                NO        NO                               NO\n",
       "58    F  41.0                NO        NO                               NO\n",
       "60    M  35.0                NO        NO                               NO"
      ]
     },
     "execution_count": 13,
     "metadata": {},
     "output_type": "execute_result"
    }
   ],
   "source": [
    "df4 = df4.drop(\"edad_años_meses\", axis = 1)\n",
    "\n",
    "df4.head()"
   ]
  },
  {
   "cell_type": "markdown",
   "metadata": {},
   "source": [
    "**Tratamiento de variables iniciales**"
   ]
  },
  {
   "cell_type": "code",
   "execution_count": 14,
   "metadata": {},
   "outputs": [],
   "source": [
    "cols = [\"sexo\", \"edad\", \"cuidado_intensivo\", \"asistencia_respiratoria_mecanica\", \"fallecido\"]"
   ]
  },
  {
   "cell_type": "code",
   "execution_count": 15,
   "metadata": {},
   "outputs": [
    {
     "name": "stdout",
     "output_type": "stream",
     "text": [
      "['F' 'M' 'NR']\n",
      "[ 48.  23.  73.  41.  35.  43.  26.  37.  45.  54.  44.  47.  53.   8.\n",
      "  30.  46.  20.  25.  32.  49.  52.  24.  27.  31.  51.  39.  61.  22.\n",
      "  59.  18.  58.  33.  62.  36.  76.  42.  34.  50.  11.  19.  28.  56.\n",
      "  21.  55.  91.  16.  63.  29.  15.  57.  69.  72.  40.  17.  77.  38.\n",
      "  78.  68.  84.  93.  81.  64.  86.  13.  66.  83.  65.  74.  80.  60.\n",
      "  12.  14.  88.  67.  82.   7.  70.  71.  10.  79.  75.  96.   1.  89.\n",
      "  97.   3.   6.   9.  98.  87.   4.   2.   5.   0.  90.  85.  nan  99.\n",
      "  95.  92. 121.  94. 101. 102. 111. 100. 105. 103. 108. 120. 104. -14.\n",
      " 221. 110. 107. -12. 106. -13. 114.]\n",
      "['NO' 'SI']\n",
      "['NO' 'SI']\n",
      "['NO' 'SI']\n"
     ]
    }
   ],
   "source": [
    "for i in cols:\n",
    "    print(df4[i].unique())"
   ]
  },
  {
   "cell_type": "markdown",
   "metadata": {},
   "source": [
    "* \"sexo\" posee una categoría \"NR\" (\"No registrado\") que se eliminará\n",
    "* \"edad\" posee \"nan\" y valores negativos, que se eliminarán, y edades por encima de los valores naturales\n",
    "* El resto de las variables se convertirán en 0 (\"NO\") y 1 (\"SI\")\n",
    "\n",
    "**Filtrado de \"sexos\" = \"NR\"**"
   ]
  },
  {
   "cell_type": "code",
   "execution_count": 16,
   "metadata": {},
   "outputs": [
    {
     "data": {
      "text/plain": [
       "array(['F', 'M'], dtype=object)"
      ]
     },
     "execution_count": 16,
     "metadata": {},
     "output_type": "execute_result"
    }
   ],
   "source": [
    "df5 = df4[df4[\"sexo\"] != \"NR\"]\n",
    "\n",
    "df5.sexo.unique()"
   ]
  },
  {
   "cell_type": "markdown",
   "metadata": {},
   "source": [
    "**Filtrado de \"edad\" = \"nan\" y otros valores erróneos**"
   ]
  },
  {
   "cell_type": "code",
   "execution_count": 17,
   "metadata": {},
   "outputs": [
    {
     "data": {
      "text/plain": [
       "array([ 48.,  23.,  73.,  41.,  35.,  43.,  26.,  37.,  45.,  54.,  44.,\n",
       "        47.,  53.,   8.,  30.,  46.,  20.,  25.,  32.,  49.,  52.,  24.,\n",
       "        27.,  31.,  51.,  39.,  61.,  22.,  59.,  18.,  33.,  62.,  36.,\n",
       "        76.,  42.,  34.,  50.,  11.,  19.,  28.,  56.,  21.,  55.,  91.,\n",
       "        16.,  63.,  29.,  15.,  58.,  57.,  69.,  72.,  40.,  17.,  77.,\n",
       "        38.,  78.,  68.,  84.,  93.,  81.,  64.,  86.,  13.,  66.,  83.,\n",
       "        65.,  74.,  80.,  60.,  12.,  14.,  88.,  67.,  82.,  70.,  71.,\n",
       "        10.,  79.,  75.,  96.,   1.,  89.,  97.,   3.,   6.,   9.,  98.,\n",
       "        87.,   4.,   2.,   5.,   7.,   0.,  90.,  85.,  99.,  95.,  92.,\n",
       "        94., 101., 102., 100., 105., 108., 103., 104., 107., 106., 114.])"
      ]
     },
     "execution_count": 17,
     "metadata": {},
     "output_type": "execute_result"
    }
   ],
   "source": [
    "df6 = df5.dropna()\n",
    "df6 = df6[(df6[\"edad\"] >= 0) & (df6[\"edad\"] < 115)]\n",
    "\n",
    "df6.edad.unique()"
   ]
  },
  {
   "cell_type": "code",
   "execution_count": 18,
   "metadata": {},
   "outputs": [
    {
     "data": {
      "text/plain": [
       "count    2546577.000000\n",
       "mean          40.249523\n",
       "std           17.474850\n",
       "min            0.000000\n",
       "25%           27.000000\n",
       "50%           38.000000\n",
       "75%           51.000000\n",
       "max          114.000000\n",
       "Name: edad, dtype: object"
      ]
     },
     "execution_count": 18,
     "metadata": {},
     "output_type": "execute_result"
    }
   ],
   "source": [
    "df6[\"edad\"].describe().apply(lambda x: format(x, 'f'))"
   ]
  },
  {
   "cell_type": "code",
   "execution_count": 19,
   "metadata": {},
   "outputs": [
    {
     "data": {
      "text/plain": [
       "(array([3.08210e+04, 3.84110e+04, 9.26300e+04, 1.97466e+05, 3.43366e+05,\n",
       "        3.71203e+05, 2.78391e+05, 3.10567e+05, 2.53958e+05, 1.71094e+05,\n",
       "        1.61705e+05, 1.13546e+05, 7.70220e+04, 4.31590e+04, 3.40940e+04,\n",
       "        2.05040e+04, 7.01800e+03, 1.55500e+03, 6.60000e+01, 1.00000e+00]),\n",
       " array([  0. ,   5.7,  11.4,  17.1,  22.8,  28.5,  34.2,  39.9,  45.6,\n",
       "         51.3,  57. ,  62.7,  68.4,  74.1,  79.8,  85.5,  91.2,  96.9,\n",
       "        102.6, 108.3, 114. ]),\n",
       " <BarContainer object of 20 artists>)"
      ]
     },
     "execution_count": 19,
     "metadata": {},
     "output_type": "execute_result"
    },
    {
     "data": {
      "image/png": "[encoded data removed]",
      "text/plain": [
       "<Figure size 432x288 with 1 Axes>"
      ]
     },
     "metadata": {
      "needs_background": "light"
     },
     "output_type": "display_data"
    }
   ],
   "source": [
    "plt.hist(df6.edad, bins=20)"
   ]
  },
  {
   "cell_type": "markdown",
   "metadata": {},
   "source": [
    "**Conversión de variables binarias a entero**"
   ]
  },
  {
   "cell_type": "code",
   "execution_count": 20,
   "metadata": {},
   "outputs": [],
   "source": [
    "df7 = df6\n",
    "\n",
    "df7[\"cuidado_intensivo\"] = df7[\"cuidado_intensivo\"] == \"SI\"\n",
    "df7[\"asistencia_respiratoria_mecanica\"] = df7[\"asistencia_respiratoria_mecanica\"] == \"SI\"\n",
    "df7[\"fallecido\"] = df7[\"fallecido\"] == \"SI\""
   ]
  },
  {
   "cell_type": "markdown",
   "metadata": {},
   "source": [
    "**Revisión final**"
   ]
  },
  {
   "cell_type": "code",
   "execution_count": 21,
   "metadata": {},
   "outputs": [
    {
     "name": "stdout",
     "output_type": "stream",
     "text": [
      "['F' 'M']\n",
      "[ 48.  23.  73.  41.  35.  43.  26.  37.  45.  54.  44.  47.  53.   8.\n",
      "  30.  46.  20.  25.  32.  49.  52.  24.  27.  31.  51.  39.  61.  22.\n",
      "  59.  18.  33.  62.  36.  76.  42.  34.  50.  11.  19.  28.  56.  21.\n",
      "  55.  91.  16.  63.  29.  15.  58.  57.  69.  72.  40.  17.  77.  38.\n",
      "  78.  68.  84.  93.  81.  64.  86.  13.  66.  83.  65.  74.  80.  60.\n",
      "  12.  14.  88.  67.  82.  70.  71.  10.  79.  75.  96.   1.  89.  97.\n",
      "   3.   6.   9.  98.  87.   4.   2.   5.   7.   0.  90.  85.  99.  95.\n",
      "  92.  94. 101. 102. 100. 105. 108. 103. 104. 107. 106. 114.]\n",
      "[False  True]\n",
      "[False  True]\n",
      "[False  True]\n"
     ]
    }
   ],
   "source": [
    "for i in cols:\n",
    "    print(df7[i].unique())"
   ]
  },
  {
   "cell_type": "code",
   "execution_count": 22,
   "metadata": {},
   "outputs": [
    {
     "data": {
      "text/html": [
       "<div>\n",
       "<style scoped>\n",
       "    .dataframe tbody tr th:only-of-type {\n",
       "        vertical-align: middle;\n",
       "    }\n",
       "\n",
       "    .dataframe tbody tr th {\n",
       "        vertical-align: top;\n",
       "    }\n",
       "\n",
       "    .dataframe thead th {\n",
       "        text-align: right;\n",
       "    }\n",
       "</style>\n",
       "<table border=\"1\" class=\"dataframe\">\n",
       "  <thead>\n",
       "    <tr style=\"text-align: right;\">\n",
       "      <th></th>\n",
       "      <th>sexo</th>\n",
       "      <th>edad</th>\n",
       "      <th>cuidado_intensivo</th>\n",
       "      <th>fallecido</th>\n",
       "      <th>asistencia_respiratoria_mecanica</th>\n",
       "    </tr>\n",
       "  </thead>\n",
       "  <tbody>\n",
       "    <tr>\n",
       "      <th>16</th>\n",
       "      <td>F</td>\n",
       "      <td>48.0</td>\n",
       "      <td>False</td>\n",
       "      <td>False</td>\n",
       "      <td>False</td>\n",
       "    </tr>\n",
       "    <tr>\n",
       "      <th>27</th>\n",
       "      <td>F</td>\n",
       "      <td>23.0</td>\n",
       "      <td>False</td>\n",
       "      <td>False</td>\n",
       "      <td>False</td>\n",
       "    </tr>\n",
       "    <tr>\n",
       "      <th>51</th>\n",
       "      <td>F</td>\n",
       "      <td>73.0</td>\n",
       "      <td>False</td>\n",
       "      <td>False</td>\n",
       "      <td>False</td>\n",
       "    </tr>\n",
       "    <tr>\n",
       "      <th>58</th>\n",
       "      <td>F</td>\n",
       "      <td>41.0</td>\n",
       "      <td>False</td>\n",
       "      <td>False</td>\n",
       "      <td>False</td>\n",
       "    </tr>\n",
       "    <tr>\n",
       "      <th>60</th>\n",
       "      <td>M</td>\n",
       "      <td>35.0</td>\n",
       "      <td>False</td>\n",
       "      <td>False</td>\n",
       "      <td>False</td>\n",
       "    </tr>\n",
       "  </tbody>\n",
       "</table>\n",
       "</div>"
      ],
      "text/plain": [
       "   sexo  edad  cuidado_intensivo  fallecido  asistencia_respiratoria_mecanica\n",
       "16    F  48.0              False      False                             False\n",
       "27    F  23.0              False      False                             False\n",
       "51    F  73.0              False      False                             False\n",
       "58    F  41.0              False      False                             False\n",
       "60    M  35.0              False      False                             False"
      ]
     },
     "execution_count": 22,
     "metadata": {},
     "output_type": "execute_result"
    }
   ],
   "source": [
    "df7.head()"
   ]
  },
  {
   "cell_type": "code",
   "execution_count": 23,
   "metadata": {},
   "outputs": [],
   "source": [
    "target = \"fallecido\"\n",
    "predictoras_graficas = [x for x in df7.columns.values if x not in target]"
   ]
  },
  {
   "cell_type": "markdown",
   "metadata": {},
   "source": [
    "### Exploración gráfica"
   ]
  },
  {
   "cell_type": "code",
   "execution_count": 24,
   "metadata": {
    "scrolled": false
   },
   "outputs": [
    {
     "data": {
      "image/png": "[encoded data removed]",
      "text/plain": [
       "<Figure size 432x288 with 1 Axes>"
      ]
     },
     "metadata": {
      "needs_background": "light"
     },
     "output_type": "display_data"
    },
    {
     "data": {
      "image/png": "[encoded data removed]",
      "text/plain": [
       "<Figure size 432x288 with 1 Axes>"
      ]
     },
     "metadata": {
      "needs_background": "light"
     },
     "output_type": "display_data"
    },
    {
     "data": {
      "image/png": "[encoded data removed]",
      "text/plain": [
       "<Figure size 432x288 with 1 Axes>"
      ]
     },
     "metadata": {
      "needs_background": "light"
     },
     "output_type": "display_data"
    },
    {
     "data": {
      "image/png": "[encoded data removed]",
      "text/plain": [
       "<Figure size 432x288 with 1 Axes>"
      ]
     },
     "metadata": {
      "needs_background": "light"
     },
     "output_type": "display_data"
    }
   ],
   "source": [
    "for var in predictoras_graficas: \n",
    "    table = pd.crosstab(df7[var], df7.fallecido)\n",
    "    table.div(table.sum(1).astype(float), axis = 0).plot(kind = \"bar\", stacked = True)\n",
    "    plt.title(\"Fallecidos según variable predictora\")\n",
    "    plt.xlabel(var)\n",
    "    plt.ylabel(\"Fallecidos\")"
   ]
  },
  {
   "cell_type": "markdown",
   "metadata": {},
   "source": [
    "**Conclusiones observables**\n",
    "\n",
    "* La mortalidad es levemente superior en el sexo masculino\n",
    "* La curva por edades muestra el resultado esperado: la mortalidad aumenta con la edad\n",
    "* La mortalidad es significativamente superior para los pacientes que ingresan en cuidados intensivos\n",
    "* La mortalidad es significativamente superior para los pacientes que reciben asistencia respiratoria mecánica"
   ]
  },
  {
   "cell_type": "markdown",
   "metadata": {},
   "source": [
    "### Elaboración de variables dummies"
   ]
  },
  {
   "cell_type": "code",
   "execution_count": 25,
   "metadata": {},
   "outputs": [
    {
     "data": {
      "text/html": [
       "<div>\n",
       "<style scoped>\n",
       "    .dataframe tbody tr th:only-of-type {\n",
       "        vertical-align: middle;\n",
       "    }\n",
       "\n",
       "    .dataframe tbody tr th {\n",
       "        vertical-align: top;\n",
       "    }\n",
       "\n",
       "    .dataframe thead th {\n",
       "        text-align: right;\n",
       "    }\n",
       "</style>\n",
       "<table border=\"1\" class=\"dataframe\">\n",
       "  <thead>\n",
       "    <tr style=\"text-align: right;\">\n",
       "      <th></th>\n",
       "      <th>edad</th>\n",
       "      <th>cuidado_intensivo</th>\n",
       "      <th>fallecido</th>\n",
       "      <th>asistencia_respiratoria_mecanica</th>\n",
       "      <th>sexo_F</th>\n",
       "      <th>sexo_M</th>\n",
       "    </tr>\n",
       "  </thead>\n",
       "  <tbody>\n",
       "    <tr>\n",
       "      <th>16</th>\n",
       "      <td>48.0</td>\n",
       "      <td>False</td>\n",
       "      <td>False</td>\n",
       "      <td>False</td>\n",
       "      <td>1</td>\n",
       "      <td>0</td>\n",
       "    </tr>\n",
       "    <tr>\n",
       "      <th>27</th>\n",
       "      <td>23.0</td>\n",
       "      <td>False</td>\n",
       "      <td>False</td>\n",
       "      <td>False</td>\n",
       "      <td>1</td>\n",
       "      <td>0</td>\n",
       "    </tr>\n",
       "    <tr>\n",
       "      <th>51</th>\n",
       "      <td>73.0</td>\n",
       "      <td>False</td>\n",
       "      <td>False</td>\n",
       "      <td>False</td>\n",
       "      <td>1</td>\n",
       "      <td>0</td>\n",
       "    </tr>\n",
       "    <tr>\n",
       "      <th>58</th>\n",
       "      <td>41.0</td>\n",
       "      <td>False</td>\n",
       "      <td>False</td>\n",
       "      <td>False</td>\n",
       "      <td>1</td>\n",
       "      <td>0</td>\n",
       "    </tr>\n",
       "    <tr>\n",
       "      <th>60</th>\n",
       "      <td>35.0</td>\n",
       "      <td>False</td>\n",
       "      <td>False</td>\n",
       "      <td>False</td>\n",
       "      <td>0</td>\n",
       "      <td>1</td>\n",
       "    </tr>\n",
       "  </tbody>\n",
       "</table>\n",
       "</div>"
      ],
      "text/plain": [
       "    edad  cuidado_intensivo  fallecido  asistencia_respiratoria_mecanica  \\\n",
       "16  48.0              False      False                             False   \n",
       "27  23.0              False      False                             False   \n",
       "51  73.0              False      False                             False   \n",
       "58  41.0              False      False                             False   \n",
       "60  35.0              False      False                             False   \n",
       "\n",
       "    sexo_F  sexo_M  \n",
       "16       1       0  \n",
       "27       1       0  \n",
       "51       1       0  \n",
       "58       1       0  \n",
       "60       0       1  "
      ]
     },
     "execution_count": 25,
     "metadata": {},
     "output_type": "execute_result"
    }
   ],
   "source": [
    "df8 = df7\n",
    "\n",
    "categoricas = [\"sexo\"]\n",
    "\n",
    "for var in categoricas:\n",
    "    dummy = pd.get_dummies(df8[var], prefix=var)\n",
    "    df8 = pd.concat([df8, dummy], axis = 1)\n",
    "    \n",
    "df8 = df8.drop(categoricas, axis = 1)\n",
    "df8.head()"
   ]
  },
  {
   "cell_type": "code",
   "execution_count": 26,
   "metadata": {},
   "outputs": [
    {
     "data": {
      "text/plain": [
       "(2546577, 6)"
      ]
     },
     "execution_count": 26,
     "metadata": {},
     "output_type": "execute_result"
    }
   ],
   "source": [
    "df8.shape"
   ]
  },
  {
   "cell_type": "code",
   "execution_count": 27,
   "metadata": {},
   "outputs": [
    {
     "data": {
      "text/plain": [
       "2.109655431585222"
      ]
     },
     "execution_count": 27,
     "metadata": {},
     "output_type": "execute_result"
    }
   ],
   "source": [
    "df8.fallecido.mean()*100"
   ]
  },
  {
   "cell_type": "code",
   "execution_count": 28,
   "metadata": {},
   "outputs": [],
   "source": [
    "df = df8\n",
    "\n",
    "target = \"fallecido\"\n",
    "predictoras = [x for x in df.columns.values if x not in target]"
   ]
  },
  {
   "cell_type": "markdown",
   "metadata": {},
   "source": [
    "**El dataset presenta 2546577 muestras y 6 columnas, de las cuales 5 son predictoras y 1 es target con penetración del 2.109655431585222%. Se procede a aumentar la penetración.**\n",
    "### Ajuste de penetración"
   ]
  },
  {
   "cell_type": "code",
   "execution_count": 29,
   "metadata": {},
   "outputs": [
    {
     "name": "stdout",
     "output_type": "stream",
     "text": [
      "107448\n",
      "0.5\n"
     ]
    }
   ],
   "source": [
    "penetracion = 50\n",
    "\n",
    "df_0 = df[df[target] == 0]\n",
    "df_1 = df[df[target] == 1]\n",
    "\n",
    "n = df_1.shape[0] * (100-penetracion)/penetracion\n",
    "porc = n * 100 / df_0.shape[0]\n",
    "\n",
    "random.seed(2403)\n",
    "\n",
    "index = random.choices(range(len(df_0)), k = int(n))\n",
    "\n",
    "df_0_n = df_0.iloc[index]\n",
    "\n",
    "df_pen = pd.concat([df_1, df_0_n], axis = 0)\n",
    "\n",
    "print(df_pen.shape[0])\n",
    "print(df_pen[target].mean())"
   ]
  },
  {
   "cell_type": "markdown",
   "metadata": {},
   "source": [
    "### Modelado"
   ]
  },
  {
   "cell_type": "code",
   "execution_count": 30,
   "metadata": {},
   "outputs": [
    {
     "name": "stdout",
     "output_type": "stream",
     "text": [
      "88.04351872533691\n"
     ]
    },
    {
     "data": {
      "text/html": [
       "<div>\n",
       "<style scoped>\n",
       "    .dataframe tbody tr th:only-of-type {\n",
       "        vertical-align: middle;\n",
       "    }\n",
       "\n",
       "    .dataframe tbody tr th {\n",
       "        vertical-align: top;\n",
       "    }\n",
       "\n",
       "    .dataframe thead th {\n",
       "        text-align: right;\n",
       "    }\n",
       "</style>\n",
       "<table border=\"1\" class=\"dataframe\">\n",
       "  <thead>\n",
       "    <tr style=\"text-align: right;\">\n",
       "      <th></th>\n",
       "      <th>0</th>\n",
       "      <th>1</th>\n",
       "    </tr>\n",
       "  </thead>\n",
       "  <tbody>\n",
       "    <tr>\n",
       "      <th>0</th>\n",
       "      <td>edad</td>\n",
       "      <td>[0.11824124917234817]</td>\n",
       "    </tr>\n",
       "    <tr>\n",
       "      <th>1</th>\n",
       "      <td>cuidado_intensivo</td>\n",
       "      <td>[3.86354865757526]</td>\n",
       "    </tr>\n",
       "    <tr>\n",
       "      <th>2</th>\n",
       "      <td>asistencia_respiratoria_mecanica</td>\n",
       "      <td>[2.488002282641897]</td>\n",
       "    </tr>\n",
       "    <tr>\n",
       "      <th>3</th>\n",
       "      <td>sexo_F</td>\n",
       "      <td>[-2.6460852334343254]</td>\n",
       "    </tr>\n",
       "    <tr>\n",
       "      <th>4</th>\n",
       "      <td>sexo_M</td>\n",
       "      <td>[-2.0924997263294]</td>\n",
       "    </tr>\n",
       "  </tbody>\n",
       "</table>\n",
       "</div>"
      ],
      "text/plain": [
       "                                  0                      1\n",
       "0                              edad  [0.11824124917234817]\n",
       "1                 cuidado_intensivo     [3.86354865757526]\n",
       "2  asistencia_respiratoria_mecanica    [2.488002282641897]\n",
       "3                            sexo_F  [-2.6460852334343254]\n",
       "4                            sexo_M     [-2.0924997263294]"
      ]
     },
     "execution_count": 30,
     "metadata": {},
     "output_type": "execute_result"
    }
   ],
   "source": [
    "df = df_pen\n",
    "\n",
    "x = df[predictoras]\n",
    "y = df[target]\n",
    "\n",
    "lm = linear_model.LogisticRegression(max_iter=2000)\n",
    "lm.fit(x, y.values.ravel())\n",
    "print(lm.score(x, y) * 100)\n",
    "pd.DataFrame(list(zip(x.columns, np.transpose(lm.coef_))))"
   ]
  },
  {
   "cell_type": "markdown",
   "metadata": {},
   "source": [
    "### Validación cruzada, matriz de confusión, sensibilidad y especificidad"
   ]
  },
  {
   "cell_type": "code",
   "execution_count": 31,
   "metadata": {},
   "outputs": [
    {
     "name": "stdout",
     "output_type": "stream",
     "text": [
      "La tasa de acierto tras validación cruzada es de 94.26%, la sensibilidad es de 89.09% y la especificidad es de 86.99%\n"
     ]
    },
    {
     "data": {
      "text/html": [
       "<div>\n",
       "<style scoped>\n",
       "    .dataframe tbody tr th:only-of-type {\n",
       "        vertical-align: middle;\n",
       "    }\n",
       "\n",
       "    .dataframe tbody tr th {\n",
       "        vertical-align: top;\n",
       "    }\n",
       "\n",
       "    .dataframe thead th {\n",
       "        text-align: right;\n",
       "    }\n",
       "</style>\n",
       "<table border=\"1\" class=\"dataframe\">\n",
       "  <thead>\n",
       "    <tr style=\"text-align: right;\">\n",
       "      <th>fallecido</th>\n",
       "      <th>False</th>\n",
       "      <th>True</th>\n",
       "    </tr>\n",
       "    <tr>\n",
       "      <th>pred</th>\n",
       "      <th></th>\n",
       "      <th></th>\n",
       "    </tr>\n",
       "  </thead>\n",
       "  <tbody>\n",
       "    <tr>\n",
       "      <th>False</th>\n",
       "      <td>46737</td>\n",
       "      <td>5860</td>\n",
       "    </tr>\n",
       "    <tr>\n",
       "      <th>True</th>\n",
       "      <td>6987</td>\n",
       "      <td>47864</td>\n",
       "    </tr>\n",
       "  </tbody>\n",
       "</table>\n",
       "</div>"
      ],
      "text/plain": [
       "fallecido  False  True \n",
       "pred                   \n",
       "False      46737   5860\n",
       "True        6987  47864"
      ]
     },
     "execution_count": 31,
     "metadata": {},
     "output_type": "execute_result"
    }
   ],
   "source": [
    "scores = cross_val_score(linear_model.LogisticRegression(max_iter=2000), x, y.values.ravel(), scoring = \"average_precision\", cv = 10)\n",
    "df[\"pred\"] = lm.predict(x)\n",
    "confusion_matrix = pd.crosstab(df.pred, y)\n",
    "TN = confusion_matrix.iloc[0][0]\n",
    "FP = confusion_matrix.iloc[1][0]\n",
    "FN = confusion_matrix.iloc[0][1]\n",
    "TP = confusion_matrix.iloc[1][1]\n",
    "sensibilidad = TP * 100 / (TP + FN)\n",
    "especificidad = TN * 100 / (TN + FP)\n",
    "print(\"La tasa de acierto tras validación cruzada es de {v:.2f}%, la sensibilidad es de {s:.2f}% y la especificidad es de {e:.2f}%\".format(v=scores.mean()*100, s=sensibilidad, e=especificidad))\n",
    "confusion_matrix"
   ]
  },
  {
   "cell_type": "markdown",
   "metadata": {},
   "source": [
    "### Conclusiones\n",
    "\n",
    "* Con una tasa de penetración del 50% se logra una tasa de acierto general superior al 88%, desglosada en:\n",
    "        * Una sensibilidad superior al 89%\n",
    "        * Una especificidad superior al 87%\n",
    "        \n",
    "* Los aumentos en la penetración aumentan la sensibilidad pero reducen la especificidad. Será decisión del usuario la elección de una mayor tasa de detección de casos graves a expensas de una menor tasa de sobreatención de casos no riesgosos, o viceversa."
   ]
  }
 ],
 "metadata": {
  "kernelspec": {
   "display_name": "Python 3",
   "language": "python",
   "name": "python3"
  },
  "language_info": {
   "codemirror_mode": {
    "name": "ipython",
    "version": 3
   },
   "file_extension": ".py",
   "mimetype": "text/x-python",
   "name": "python",
   "nbconvert_exporter": "python",
   "pygments_lexer": "ipython3",
   "version": "3.8.5"
  }
 },
 "nbformat": 4,
 "nbformat_minor": 5
}
